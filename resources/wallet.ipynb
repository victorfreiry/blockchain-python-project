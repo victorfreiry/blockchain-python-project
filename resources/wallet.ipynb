{
 "cells": [
  {
   "cell_type": "code",
   "execution_count": 1,
   "id": "f7f21f04",
   "metadata": {},
   "outputs": [
    {
     "name": "stdout",
     "output_type": "stream",
     "text": [
      "home coral tongue welcome exchange labor border inform cousin sheriff coach pause\n",
      "[{'path': \"m/44'/0'/0'/0/0\", 'address': '1PGBJ4TRwZD5YnTWFNSBNgBBvScSVGc9RQ', 'xprv': 'xprvA3u58VKYD7qw2KmWiiXPPpz94EPyxyWzienMhrtugYNBHkGwpA8TnRPJURaka58dW5BPcEuosnT7bYQisb5ocT7dd9EffDUnSvGwJoQ6hkX', 'xpub': 'xpub6GtRXzrS3VQEEoqypk4PkxvscGEUNSEr5shxWFJXEsuAAYc6MhSiLDhnKhLToGSX9B2zKxeYVSUD5b4MZY31Hb4ZLzEJiMa5JmLr8vCK6jp', 'privkey': 'L2YXQAmx4XKV3VZ9qYZX2E1akNwTbFzo1KeGpudhafqRqbEhNTWh', 'pubkey': '02fe1b1f10f52233fb7695f39d62a86af42531a5e89b3e69a36b0cd33f32540248', 'pubkeyhash': 'f431998b04e2b8f149d4b4313e7ed9bd42bf1d58', 'index': 0}, {'path': \"m/44'/0'/0'/0/1\", 'address': '13TjiN4wGUHVghiEVwcTjA2Nx5hAmpdv2T', 'xprv': 'xprvA3u58VKYD7qw4JoWxqom88NGJvkgS14odT24sFkD5aSPfrZXU9KyNraAHkiX8jNdZZuTP2MtSpM4VD1WGQ448W36hYWq2z2PyuKoAxpKzux', 'xpub': 'xpub6GtRXzrS3VQEGnsz4sLmVGJzrxbAqTnezfwffe9pduyNYetg1geDvete94TrZauJagy2ZBj7ZRqX34Ha6JSpMdp3H1XaKVcVUWFWeNrJD6v', 'privkey': 'KybnbboE2y5jvgq5QS8eGzcGa8xWNkzu6PB4K6MtRzeZCKgMVBFn', 'pubkey': '03accf86abbe497f21eec5bb7bcd3535700c0220c20a7ec30352f4140bb5a81845', 'pubkeyhash': '1afeb8c2e54a3953957372c4662837b153f8d33c', 'index': 1}, {'path': \"m/44'/0'/0'/0/2\", 'address': '18b4W1rKKk2VcxwXci6JdRRJajfBdxGMNk', 'xprv': 'xprvA3u58VKYD7qw8G5zxDkSm4jiEyqTPARSaf1vVmN8eDTy6gbTgb2bNvFapZxiJhQ9PBHdS9AbNdZrqmBExwnwCfMNoXwRJKCgQwS7hLMeq6Y', 'xpub': 'xpub6GtRXzrS3VQELkAU4FHT8CgSo1fwnd9HwswXJ9mkCYzwyUvcE8Lqvia4ftHgEofhpWEeJvZ6x1gKHiXtvFwV2V34LPpRh1RFQqyQqeUAmEo', 'privkey': 'Kxcy2mR2fk65ytCeuVtMA4VETkobN36YvbrpY5ERW3dGVoKvDYVX', 'pubkey': '03dbf09b453de45b8c9efddf3b73dda29ee666ae5b9aa85e77b870e31d1542e06a', 'pubkeyhash': '5339f1eedf0a076a366a0c5bf58abb17aaa190e3', 'index': 2}]\n",
      "0x7684672089437E89eA2cE1f19A2530B1B43075d3\n",
      "mm33GADgfcXaDGtQ8uy5qRBMmFgSxhhiff\n"
     ]
    }
   ],
   "source": [
    "# Import dependencies\n",
    "import subprocess\n",
    "import json\n",
    "from dotenv import load_dotenv\n",
    "import os\n",
    "from constants import *\n",
    "# from bipwallet import wallet\n",
    "from web3 import Web3\n",
    "from eth_account import Account\n",
    "from bit import PrivateKeyTestnet\n",
    "from bit.network import NetworkAPI\n",
    "from web3.middleware import geth_poa_middleware\n",
    "from web3.gas_strategies.time_based import medium_gas_price_strategy\n",
    "\n",
    "# Load and set environment variables\n",
    "load_dotenv()\n",
    "mnemonic=os.getenv(\"key\")\n",
    "print(mnemonic)\n",
    "PRIVKEY = 'privkey'\n",
    "\n",
    "# connect to local ETH/ geth\n",
    "w3 = Web3(Web3.HTTPProvider('http://127.0.0.1:8545'))\n",
    "w3.middleware_onion.inject(geth_poa_middleware, layer=0)\n",
    "w3.eth.setGasPriceStrategy(medium_gas_price_strategy)\n",
    " \n",
    "# Create a function called `derive_wallets`\n",
    "def derive_wallets(mnemonic, coin, numderive):\n",
    "    command = f'php ../hd-wallet-derive/hd-wallet-derive.php -g --mnemonic=\"{mnemonic}\" --numderive=\"{numderive}\" --coin=\"{coin}\" --format=json'\n",
    "    p = subprocess.Popen(command, stdout=subprocess.PIPE, shell=True)\n",
    "    output, err = p.communicate()\n",
    "    # p_status = p.wait()\n",
    "    return json.loads(output)\n",
    "\n",
    "# Create a dictionary object called coins to store the output from `derive_wallets`.\n",
    "coins = {ETH, BTC, BTCTEST}\n",
    "numderive=3\n",
    "\n",
    "# Just testing the derive wallets function\n",
    "print(derive_wallets(mnemonic, BTC, numderive))\n",
    "\n",
    "wallets = {}\n",
    "for coin in coins:\n",
    "    wallets[coin] = derive_wallets(mnemonic, coin, numderive)\n",
    "\n",
    "# print(wallets)\n",
    "\n",
    "eth_key = wallets[ETH][0][PRIVKEY]\n",
    "btc_key = wallets[BTC][0][PRIVKEY]\n",
    "btctest_key = wallets[BTCTEST][0][PRIVKEY]\n",
    "\n",
    "# print(f'ETH key {eth_key}')\n",
    "# print(f'BTC key {btc_key}')\n",
    "# print(f'BTCTEST key {btctest_key}')\n",
    "\n",
    "# Create a function called `priv_key_to_account` that converts privkey strings to account objects.\n",
    "def priv_key_to_account(coin, privkey):\n",
    "    if coin == ETH:\n",
    "        return Account.privateKeyToAccount(privkey)\n",
    "    elif coin == BTCTEST:\n",
    "        return PrivateKeyTestnet(privkey)\n",
    "\n",
    "\n",
    "eth_account = priv_key_to_account(ETH, eth_key)\n",
    "btctest_acc = priv_key_to_account(BTCTEST, btctest_key)\n",
    "\n",
    "print(eth_account.address)\n",
    "print(btctest_acc.address)\n",
    "\n",
    "# Create a function called `create_tx` that creates an unsigned transaction appropriate metadata.\n",
    "def create_tx(coin, account, recipient, amount):\n",
    "    if coin == ETH:\n",
    "        estimate = w3.eth.estimateGas({\"from\": eth_account.address, \"to\": recipient, \"value\": amount})\n",
    "\n",
    "        return {\n",
    "            \"from\": eth_account.address,\n",
    "            \"to\": recipient,\n",
    "            \"value\": amount,\n",
    "            \"gasPrice\": w3.eth.gasPrice,\n",
    "            \"gas\": estimate,\n",
    "            \"nonce\": w3.eth.getTransactionCount(eth_account.address),\n",
    "            \"chainID\": w3.eth.chain_id\n",
    "        }\n",
    "\n",
    "    elif coin == BTCTEST:\n",
    "        return PrivateKeyTestnet.prepare_transaction(account.address, [(recipient, amount, BTC)])\n",
    "\n",
    "# print(create_tx(ETH, eth_account, <receiver address>, 1000))\n",
    "\n",
    "\n",
    "# Create a function called `send_tx` that calls `create_tx`, signs and sends the transaction.\n",
    "def send_txn(coin, account, recipient, amount):\n",
    "    txn = create_tx(coin, account, recipient, amount)\n",
    "    if coin == ETH:\n",
    "        signed_txn = eth_account.sign_transaction(txn)\n",
    "        result = w3.eth.sendRawTransaction(signed_txn.rawTransaction)\n",
    "        print(result.hex())\n",
    "        return result.hex()\n",
    "    elif coin == BTCTEST:\n",
    "        signed_txn = account.sign_transaction(txn)\n",
    "        print(signed_txn)\n",
    "        return NetworkAPI.broadcast_tx_testnet(signed_txn)\n",
    "\n",
    "# print(send_txn(ETH, eth_account, <reciever address>, 1000))\n"
   ]
  },
  {
   "cell_type": "code",
   "execution_count": 2,
   "id": "84657b15",
   "metadata": {},
   "outputs": [
    {
     "data": {
      "text/plain": [
       "'0'"
      ]
     },
     "execution_count": 2,
     "metadata": {},
     "output_type": "execute_result"
    }
   ],
   "source": [
    "from bit import Key\n",
    "mykey = Key(btctest_key)\n",
    "mykey.get_balance('usd')"
   ]
  },
  {
   "cell_type": "code",
   "execution_count": 3,
   "id": "610ce838",
   "metadata": {},
   "outputs": [
    {
     "data": {
      "text/plain": [
       "904625697166532776746648320380374280103671755200316906558262375061821325312"
      ]
     },
     "execution_count": 3,
     "metadata": {},
     "output_type": "execute_result"
    }
   ],
   "source": [
    "w3.eth.getBalance(\"0x7684672089437E89eA2cE1f19A2530B1B43075d3\")"
   ]
  },
  {
   "cell_type": "code",
   "execution_count": 4,
   "id": "ec7fe99c",
   "metadata": {},
   "outputs": [
    {
     "name": "stdout",
     "output_type": "stream",
     "text": [
      "0100000001cb949b87e0bada0ab2bce67cb9002fd2312b7080a6e8b9322d2533f2185d2526010000006b483045022100a642844d51cfc1220703a34980b2273f9290d9936260d2e3df6386a73bfcbe08022030ba8ec2e6bd0a4a41e96d1597015a83db049694fa754953bd2e7b6e16cf887801210245e8f5da1176010c64adc95255f842b59a3e49abbb0bd43b63f39da0e9aa702fffffffff02102700000000000017a914f8c9ee3474ac878bb3e699d45b2def2af8bcde798734040000000000001976a9143c894119c4c0f9a310b80ceaf7d56c35f69d5d9c88ac00000000\n"
     ]
    }
   ],
   "source": [
    "create_tx(BTCTEST,btctest_acc,'2NFvhUEXz9srP4NKYaoeffMwUv5LAyeZHbQ', 0.0001)\n",
    "send_txn(BTCTEST,btctest_acc,'2NFvhUEXz9srP4NKYaoeffMwUv5LAyeZHbQ', 0.0001)"
   ]
  }
 ],
 "metadata": {
  "kernelspec": {
   "display_name": "Python [conda env:pyvizenv] *",
   "language": "python",
   "name": "conda-env-pyvizenv-py"
  },
  "language_info": {
   "codemirror_mode": {
    "name": "ipython",
    "version": 3
   },
   "file_extension": ".py",
   "mimetype": "text/x-python",
   "name": "python",
   "nbconvert_exporter": "python",
   "pygments_lexer": "ipython3",
   "version": "3.7.10"
  }
 },
 "nbformat": 4,
 "nbformat_minor": 5
}
